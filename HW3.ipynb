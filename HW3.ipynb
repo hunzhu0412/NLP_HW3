{
 "cells": [
  {
   "cell_type": "code",
   "execution_count": 1,
   "metadata": {},
   "outputs": [],
   "source": [
    "from sklearn.feature_extraction.text import CountVectorizer\n",
    "from sklearn.feature_extraction.text import TfidfTransformer\n",
    "from sklearn.feature_extraction.text import TfidfVectorizer\n",
    "import pandas as pd"
   ]
  },
  {
   "cell_type": "code",
   "execution_count": 21,
   "metadata": {},
   "outputs": [
    {
     "name": "stdout",
     "output_type": "stream",
     "text": [
      "Read 8232 rows.\n"
     ]
    }
   ],
   "source": [
    "path = \"./movie.csv\"\n",
    "df = pd.read_csv(path, header=None)\n",
    "print(\"Read {} rows.\".format(len(df)))"
   ]
  },
  {
   "cell_type": "code",
   "execution_count": 23,
   "metadata": {},
   "outputs": [
    {
     "data": {
      "text/html": [
       "<div>\n",
       "<style scoped>\n",
       "    .dataframe tbody tr th:only-of-type {\n",
       "        vertical-align: middle;\n",
       "    }\n",
       "\n",
       "    .dataframe tbody tr th {\n",
       "        vertical-align: top;\n",
       "    }\n",
       "\n",
       "    .dataframe thead th {\n",
       "        text-align: right;\n",
       "    }\n",
       "</style>\n",
       "<table border=\"1\" class=\"dataframe\">\n",
       "  <thead>\n",
       "    <tr style=\"text-align: right;\">\n",
       "      <th></th>\n",
       "      <th>0</th>\n",
       "      <th>1</th>\n",
       "      <th>2</th>\n",
       "      <th>3</th>\n",
       "    </tr>\n",
       "  </thead>\n",
       "  <tbody>\n",
       "    <tr>\n",
       "      <th>0</th>\n",
       "      <td>一世狂野</td>\n",
       "      <td>['劇情', '犯罪', '歷史/傳記']</td>\n",
       "      <td>2001/10/12</td>\n",
       "      <td>喬治戎格一生都在追求所謂的美國夢，也就是享受美好富裕的生活，但是他卻不願像他父親那樣一輩子都...</td>\n",
       "    </tr>\n",
       "    <tr>\n",
       "      <th>1</th>\n",
       "      <td>玩命關頭</td>\n",
       "      <td>['動作', '劇情', '犯罪', '懸疑/驚悚']</td>\n",
       "      <td>2001/10/12</td>\n",
       "      <td>唐米尼杜洛托是洛城街頭賽車界的老大哥，他身邊有一群忠心耿耿的手下，他白天忙著組裝高性能跑車，...</td>\n",
       "    </tr>\n",
       "    <tr>\n",
       "      <th>2</th>\n",
       "      <td>戰雲密佈</td>\n",
       "      <td>['動作', '犯罪', '懸疑/驚悚', '戰爭']</td>\n",
       "      <td>2001/10/12</td>\n",
       "      <td>美國空軍最高機密的隱形戰機驚傳失蹤！祕密訓練的飛行軍官傑克，被誣陷勾結恐怖組織，參與竊取戰機...</td>\n",
       "    </tr>\n",
       "    <tr>\n",
       "      <th>3</th>\n",
       "      <td>騎士風雲錄</td>\n",
       "      <td>['動作', '冒險', '喜劇']</td>\n",
       "      <td>2001/10/12</td>\n",
       "      <td>14世紀中古時期的社會階級分明，出身卑微的平民不論如何努力和奮鬥，都無法跨越階級制度而翻身致...</td>\n",
       "    </tr>\n",
       "    <tr>\n",
       "      <th>4</th>\n",
       "      <td>金法尤物</td>\n",
       "      <td>['喜劇']</td>\n",
       "      <td>2001/10/12</td>\n",
       "      <td>在【歡樂谷】、【危險性遊戲】挑大樑的瑞絲薇斯朋飾演【金法尤物】中飽受眾人歧視的金髮美女，因為...</td>\n",
       "    </tr>\n",
       "  </tbody>\n",
       "</table>\n",
       "</div>"
      ],
      "text/plain": [
       "       0                            1           2  \\\n",
       "0   一世狂野        ['劇情', '犯罪', '歷史/傳記']  2001/10/12   \n",
       "1   玩命關頭  ['動作', '劇情', '犯罪', '懸疑/驚悚']  2001/10/12   \n",
       "2   戰雲密佈  ['動作', '犯罪', '懸疑/驚悚', '戰爭']  2001/10/12   \n",
       "3  騎士風雲錄           ['動作', '冒險', '喜劇']  2001/10/12   \n",
       "4   金法尤物                       ['喜劇']  2001/10/12   \n",
       "\n",
       "                                                   3  \n",
       "0  喬治戎格一生都在追求所謂的美國夢，也就是享受美好富裕的生活，但是他卻不願像他父親那樣一輩子都...  \n",
       "1  唐米尼杜洛托是洛城街頭賽車界的老大哥，他身邊有一群忠心耿耿的手下，他白天忙著組裝高性能跑車，...  \n",
       "2  美國空軍最高機密的隱形戰機驚傳失蹤！祕密訓練的飛行軍官傑克，被誣陷勾結恐怖組織，參與竊取戰機...  \n",
       "3  14世紀中古時期的社會階級分明，出身卑微的平民不論如何努力和奮鬥，都無法跨越階級制度而翻身致...  \n",
       "4  在【歡樂谷】、【危險性遊戲】挑大樑的瑞絲薇斯朋飾演【金法尤物】中飽受眾人歧視的金髮美女，因為...  "
      ]
     },
     "execution_count": 23,
     "metadata": {},
     "output_type": "execute_result"
    }
   ],
   "source": [
    "df.head()"
   ]
  },
  {
   "cell_type": "code",
   "execution_count": 24,
   "metadata": {},
   "outputs": [
    {
     "data": {
      "text/html": [
       "<div>\n",
       "<style scoped>\n",
       "    .dataframe tbody tr th:only-of-type {\n",
       "        vertical-align: middle;\n",
       "    }\n",
       "\n",
       "    .dataframe tbody tr th {\n",
       "        vertical-align: top;\n",
       "    }\n",
       "\n",
       "    .dataframe thead th {\n",
       "        text-align: right;\n",
       "    }\n",
       "</style>\n",
       "<table border=\"1\" class=\"dataframe\">\n",
       "  <thead>\n",
       "    <tr style=\"text-align: right;\">\n",
       "      <th></th>\n",
       "      <th>name</th>\n",
       "      <th>class</th>\n",
       "      <th>date</th>\n",
       "      <th>intro</th>\n",
       "    </tr>\n",
       "  </thead>\n",
       "  <tbody>\n",
       "    <tr>\n",
       "      <th>0</th>\n",
       "      <td>一世狂野</td>\n",
       "      <td>['劇情', '犯罪', '歷史/傳記']</td>\n",
       "      <td>2001/10/12</td>\n",
       "      <td>喬治戎格一生都在追求所謂的美國夢，也就是享受美好富裕的生活，但是他卻不願像他父親那樣一輩子都...</td>\n",
       "    </tr>\n",
       "    <tr>\n",
       "      <th>1</th>\n",
       "      <td>玩命關頭</td>\n",
       "      <td>['動作', '劇情', '犯罪', '懸疑/驚悚']</td>\n",
       "      <td>2001/10/12</td>\n",
       "      <td>唐米尼杜洛托是洛城街頭賽車界的老大哥，他身邊有一群忠心耿耿的手下，他白天忙著組裝高性能跑車，...</td>\n",
       "    </tr>\n",
       "    <tr>\n",
       "      <th>2</th>\n",
       "      <td>戰雲密佈</td>\n",
       "      <td>['動作', '犯罪', '懸疑/驚悚', '戰爭']</td>\n",
       "      <td>2001/10/12</td>\n",
       "      <td>美國空軍最高機密的隱形戰機驚傳失蹤！祕密訓練的飛行軍官傑克，被誣陷勾結恐怖組織，參與竊取戰機...</td>\n",
       "    </tr>\n",
       "    <tr>\n",
       "      <th>3</th>\n",
       "      <td>騎士風雲錄</td>\n",
       "      <td>['動作', '冒險', '喜劇']</td>\n",
       "      <td>2001/10/12</td>\n",
       "      <td>14世紀中古時期的社會階級分明，出身卑微的平民不論如何努力和奮鬥，都無法跨越階級制度而翻身致...</td>\n",
       "    </tr>\n",
       "    <tr>\n",
       "      <th>4</th>\n",
       "      <td>金法尤物</td>\n",
       "      <td>['喜劇']</td>\n",
       "      <td>2001/10/12</td>\n",
       "      <td>在【歡樂谷】、【危險性遊戲】挑大樑的瑞絲薇斯朋飾演【金法尤物】中飽受眾人歧視的金髮美女，因為...</td>\n",
       "    </tr>\n",
       "  </tbody>\n",
       "</table>\n",
       "</div>"
      ],
      "text/plain": [
       "    name                        class        date  \\\n",
       "0   一世狂野        ['劇情', '犯罪', '歷史/傳記']  2001/10/12   \n",
       "1   玩命關頭  ['動作', '劇情', '犯罪', '懸疑/驚悚']  2001/10/12   \n",
       "2   戰雲密佈  ['動作', '犯罪', '懸疑/驚悚', '戰爭']  2001/10/12   \n",
       "3  騎士風雲錄           ['動作', '冒險', '喜劇']  2001/10/12   \n",
       "4   金法尤物                       ['喜劇']  2001/10/12   \n",
       "\n",
       "                                               intro  \n",
       "0  喬治戎格一生都在追求所謂的美國夢，也就是享受美好富裕的生活，但是他卻不願像他父親那樣一輩子都...  \n",
       "1  唐米尼杜洛托是洛城街頭賽車界的老大哥，他身邊有一群忠心耿耿的手下，他白天忙著組裝高性能跑車，...  \n",
       "2  美國空軍最高機密的隱形戰機驚傳失蹤！祕密訓練的飛行軍官傑克，被誣陷勾結恐怖組織，參與竊取戰機...  \n",
       "3  14世紀中古時期的社會階級分明，出身卑微的平民不論如何努力和奮鬥，都無法跨越階級制度而翻身致...  \n",
       "4  在【歡樂谷】、【危險性遊戲】挑大樑的瑞絲薇斯朋飾演【金法尤物】中飽受眾人歧視的金髮美女，因為...  "
      ]
     },
     "execution_count": 24,
     "metadata": {},
     "output_type": "execute_result"
    }
   ],
   "source": [
    "df.columns = [\"name\",\"class\",\"date\",\"intro\"]\n",
    "df.head()"
   ]
  },
  {
   "cell_type": "code",
   "execution_count": null,
   "metadata": {},
   "outputs": [],
   "source": []
  }
 ],
 "metadata": {
  "kernelspec": {
   "display_name": "Python 3",
   "language": "python",
   "name": "python3"
  },
  "language_info": {
   "codemirror_mode": {
    "name": "ipython",
    "version": 3
   },
   "file_extension": ".py",
   "mimetype": "text/x-python",
   "name": "python",
   "nbconvert_exporter": "python",
   "pygments_lexer": "ipython3",
   "version": "3.8.3"
  }
 },
 "nbformat": 4,
 "nbformat_minor": 4
}
